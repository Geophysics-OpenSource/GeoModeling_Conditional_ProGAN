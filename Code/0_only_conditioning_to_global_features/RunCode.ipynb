{
 "cells": [
  {
   "cell_type": "code",
   "execution_count": 1,
   "metadata": {},
   "outputs": [
    {
     "name": "stdout",
     "output_type": "stream",
     "text": [
      "/home/users/suihong/2-Cond_globalfeatures-upload\n"
     ]
    }
   ],
   "source": [
    "%cd /home/users/suihong/2-Cond_globalfeatures-upload/"
   ]
  },
  {
   "cell_type": "code",
   "execution_count": null,
   "metadata": {
    "scrolled": false
   },
   "outputs": [
    {
     "name": "stdout",
     "output_type": "stream",
     "text": [
      "Initializing TensorFlow...\n",
      "Running train.train_progressive_gan()...\n",
      "Streaming data using dataset.TFRecordDataset...\n",
      "Dataset shape = [1, 64, 64]\n",
      "Dynamic range = [0, 255]\n",
      "Label size    = 3\n",
      "Constructing networks...\n",
      "\n",
      "G                           Params      OutputShape             WeightShape             \n",
      "---                         ---         ---                     ---                     \n",
      "latents_in                  -           (?, 128)                -                       \n",
      "labels_in                   -           (?, 3)                  -                       \n",
      "lod                         -           ()                      -                       \n",
      "4x4/Dense                   268416      (?, 128, 4, 4)          (131, 2048)             \n",
      "4x4/Conv                    147584      (?, 128, 4, 4)          (3, 3, 128, 128)        \n",
      "ToRGB_lod4                  129         (?, 1, 4, 4)            (1, 1, 128, 1)          \n",
      "8x8/Conv0_up                147584      (?, 128, 8, 8)          (3, 3, 128, 128)        \n",
      "8x8/Conv1                   147584      (?, 128, 8, 8)          (3, 3, 128, 128)        \n",
      "ToRGB_lod3                  129         (?, 1, 8, 8)            (1, 1, 128, 1)          \n",
      "Upscale2D                   -           (?, 1, 8, 8)            -                       \n",
      "Grow_lod3                   -           (?, 1, 8, 8)            -                       \n",
      "16x16/Conv0_up              147584      (?, 128, 16, 16)        (3, 3, 128, 128)        \n",
      "16x16/Conv1                 147584      (?, 128, 16, 16)        (3, 3, 128, 128)        \n",
      "ToRGB_lod2                  129         (?, 1, 16, 16)          (1, 1, 128, 1)          \n",
      "Upscale2D_1                 -           (?, 1, 16, 16)          -                       \n",
      "Grow_lod2                   -           (?, 1, 16, 16)          -                       \n",
      "32x32/Conv0_up              147584      (?, 128, 32, 32)        (3, 3, 128, 128)        \n",
      "32x32/Conv1                 147584      (?, 128, 32, 32)        (3, 3, 128, 128)        \n",
      "ToRGB_lod1                  129         (?, 1, 32, 32)          (1, 1, 128, 1)          \n",
      "Upscale2D_2                 -           (?, 1, 32, 32)          -                       \n",
      "Grow_lod1                   -           (?, 1, 32, 32)          -                       \n",
      "64x64/Conv0_up              73792       (?, 64, 64, 64)         (3, 3, 64, 128)         \n",
      "64x64/Conv1                 36928       (?, 64, 64, 64)         (3, 3, 64, 64)          \n",
      "ToRGB_lod0                  65          (?, 1, 64, 64)          (1, 1, 64, 1)           \n",
      "Upscale2D_3                 -           (?, 1, 64, 64)          -                       \n",
      "Grow_lod0                   -           (?, 1, 64, 64)          -                       \n",
      "images_out                  -           (?, 1, 64, 64)          -                       \n",
      "---                         ---         ---                     ---                     \n",
      "Total                       1412805                                                     \n",
      "\n",
      "\n",
      "D                           Params      OutputShape             WeightShape             \n",
      "---                         ---         ---                     ---                     \n",
      "images_in                   -           (?, 1, 64, 64)          -                       \n",
      "lod                         -           ()                      -                       \n",
      "FromRGB_lod0                128         (?, 64, 64, 64)         (1, 1, 1, 64)           \n",
      "64x64/Conv0                 36928       (?, 64, 64, 64)         (3, 3, 64, 64)          \n",
      "64x64/Conv1_down            73856       (?, 128, 32, 32)        (3, 3, 64, 128)         \n",
      "Downscale2D                 -           (?, 1, 32, 32)          -                       \n",
      "FromRGB_lod1                256         (?, 128, 32, 32)        (1, 1, 1, 128)          \n",
      "Grow_lod0                   -           (?, 128, 32, 32)        -                       \n",
      "32x32/Conv0                 147584      (?, 128, 32, 32)        (3, 3, 128, 128)        \n",
      "32x32/Conv1_down            147584      (?, 128, 16, 16)        (3, 3, 128, 128)        \n",
      "Downscale2D_1               -           (?, 1, 16, 16)          -                       \n",
      "FromRGB_lod2                256         (?, 128, 16, 16)        (1, 1, 1, 128)          \n",
      "Grow_lod1                   -           (?, 128, 16, 16)        -                       \n",
      "16x16/Conv0                 147584      (?, 128, 16, 16)        (3, 3, 128, 128)        \n",
      "16x16/Conv1_down            147584      (?, 128, 8, 8)          (3, 3, 128, 128)        \n",
      "Downscale2D_2               -           (?, 1, 8, 8)            -                       \n",
      "FromRGB_lod3                256         (?, 128, 8, 8)          (1, 1, 1, 128)          \n",
      "Grow_lod2                   -           (?, 128, 8, 8)          -                       \n",
      "8x8/Conv0                   147584      (?, 128, 8, 8)          (3, 3, 128, 128)        \n",
      "8x8/Conv1_down              147584      (?, 128, 4, 4)          (3, 3, 128, 128)        \n",
      "Downscale2D_3               -           (?, 1, 4, 4)            -                       \n",
      "FromRGB_lod4                256         (?, 128, 4, 4)          (1, 1, 1, 128)          \n",
      "Grow_lod3                   -           (?, 128, 4, 4)          -                       \n",
      "4x4/MinibatchStddev         -           (?, 1, 4, 4)            -                       \n",
      "4x4/Conv                    148736      (?, 128, 4, 4)          (3, 3, 129, 128)        \n",
      "4x4/Dense0                  262272      (?, 128)                (2048, 128)             \n",
      "4x4/Dense1                  516         (?, 4)                  (128, 4)                \n",
      "scores_out                  -           (?, 1)                  -                       \n",
      "labels_out                  -           (?, 3)                  -                       \n",
      "---                         ---         ---                     ---                     \n",
      "Total                       1408964                                                     \n",
      "\n",
      "Building TensorFlow graph...\n",
      "Setting up snapshot image grid...\n",
      "Setting up result dir...\n",
      "Saving results to /scratch/users/suihong/ProGAN_MultiChannel_Reusults_ConditionedtoMultiConditions_TF/903-pgan-CondGlobalFeatures-2gpu\n",
      "Training...\n",
      "tick 1     kimg 320.0    lod 4.00  minibatch 32   time 8m 22s       sec/tick 502.1   sec/kimg 1.57    maintenance 47.7\n",
      "tick 2     kimg 640.0    lod 4.00  minibatch 32   time 16m 16s      sec/tick 460.6   sec/kimg 1.44    maintenance 13.3\n",
      "tick 3     kimg 960.0    lod 3.50  minibatch 32   time 25m 30s      sec/tick 553.3   sec/kimg 1.73    maintenance 0.2\n",
      "tick 4     kimg 1280.0   lod 3.00  minibatch 32   time 34m 13s      sec/tick 523.4   sec/kimg 1.64    maintenance 0.1\n",
      "tick 5     kimg 1600.0   lod 3.00  minibatch 32   time 42m 31s      sec/tick 498.1   sec/kimg 1.56    maintenance 0.2\n",
      "tick 6     kimg 1920.0   lod 3.00  minibatch 32   time 50m 48s      sec/tick 496.6   sec/kimg 1.55    maintenance 0.1\n"
     ]
    }
   ],
   "source": [
    "% run train.py"
   ]
  },
  {
   "cell_type": "code",
   "execution_count": null,
   "metadata": {
    "collapsed": true
   },
   "outputs": [],
   "source": []
  }
 ],
 "metadata": {
  "kernelspec": {
   "display_name": "Python 3",
   "language": "python",
   "name": "python3"
  },
  "language_info": {
   "codemirror_mode": {
    "name": "ipython",
    "version": 3
   },
   "file_extension": ".py",
   "mimetype": "text/x-python",
   "name": "python",
   "nbconvert_exporter": "python",
   "pygments_lexer": "ipython3",
   "version": "3.6.1"
  }
 },
 "nbformat": 4,
 "nbformat_minor": 2
}
