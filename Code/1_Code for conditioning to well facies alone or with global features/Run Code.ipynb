{
 "cells": [
  {
   "cell_type": "code",
   "execution_count": 1,
   "metadata": {
    "scrolled": true
   },
   "outputs": [
    {
     "name": "stdout",
     "output_type": "stream",
     "text": [
      "/home/users/suihong/3-Cond_wellfacies-upload\n"
     ]
    }
   ],
   "source": [
    "%cd /home/users/suihong/3-Cond_wellfacies-upload/"
   ]
  },
  {
   "cell_type": "code",
   "execution_count": null,
   "metadata": {
    "scrolled": false
   },
   "outputs": [
    {
     "name": "stdout",
     "output_type": "stream",
     "text": [
      "Initializing TensorFlow...\n",
      "Running train.train_progressive_gan()...\n",
      "Streaming data using dataset.TFRecordDataset...\n",
      "Dataset shape = [1, 64, 64]\n",
      "Dynamic range = [0, 255]\n",
      "Label size    = 1\n",
      "Constructing networks...\n",
      "\n",
      "G                           Params      OutputShape             WeightShape             \n",
      "---                         ---         ---                     ---                     \n",
      "latents_in                  -           (?, 128)                -                       \n",
      "labels_in                   -           (?, 1)                  -                       \n",
      "wellfacies_in               -           (?, 2, 64, 64)          -                       \n",
      "lod                         -           ()                      -                       \n",
      "4x4/Dense                   264320      (?, 128, 4, 4)          (129, 2048)             \n",
      "4x4/Add_Wellfc              96          (?, 32, 4, 4)           (1, 1, 2, 32)           \n",
      "4x4/Conv                    184448      (?, 128, 4, 4)          (3, 3, 160, 128)        \n",
      "ToRGB_lod4                  129         (?, 1, 4, 4)            (1, 1, 128, 1)          \n",
      "8x8/Upscale2D               -           (?, 128, 8, 8)          -                       \n",
      "8x8/Add_Wellfc              96          (?, 32, 8, 8)           (1, 1, 2, 32)           \n",
      "8x8/Conv0                   184448      (?, 128, 8, 8)          (3, 3, 160, 128)        \n",
      "8x8/Conv1                   147584      (?, 128, 8, 8)          (3, 3, 128, 128)        \n",
      "ToRGB_lod3                  129         (?, 1, 8, 8)            (1, 1, 128, 1)          \n",
      "Upscale2D                   -           (?, 1, 8, 8)            -                       \n",
      "Grow_lod3                   -           (?, 1, 8, 8)            -                       \n",
      "16x16/Upscale2D             -           (?, 128, 16, 16)        -                       \n",
      "16x16/Add_Wellfc            96          (?, 32, 16, 16)         (1, 1, 2, 32)           \n",
      "16x16/Conv0                 184448      (?, 128, 16, 16)        (3, 3, 160, 128)        \n",
      "16x16/Conv1                 147584      (?, 128, 16, 16)        (3, 3, 128, 128)        \n",
      "ToRGB_lod2                  129         (?, 1, 16, 16)          (1, 1, 128, 1)          \n",
      "Upscale2D_1                 -           (?, 1, 16, 16)          -                       \n",
      "Grow_lod2                   -           (?, 1, 16, 16)          -                       \n",
      "32x32/Upscale2D             -           (?, 128, 32, 32)        -                       \n",
      "32x32/Add_Wellfc            96          (?, 32, 32, 32)         (1, 1, 2, 32)           \n",
      "32x32/Conv0                 184448      (?, 128, 32, 32)        (3, 3, 160, 128)        \n",
      "32x32/Conv1                 147584      (?, 128, 32, 32)        (3, 3, 128, 128)        \n",
      "ToRGB_lod1                  129         (?, 1, 32, 32)          (1, 1, 128, 1)          \n",
      "Upscale2D_2                 -           (?, 1, 32, 32)          -                       \n",
      "Grow_lod1                   -           (?, 1, 32, 32)          -                       \n",
      "64x64/Upscale2D             -           (?, 128, 64, 64)        -                       \n",
      "64x64/Add_Wellfc            96          (?, 32, 64, 64)         (1, 1, 2, 32)           \n",
      "64x64/Conv0                 92224       (?, 64, 64, 64)         (3, 3, 160, 64)         \n",
      "64x64/Conv1                 36928       (?, 64, 64, 64)         (3, 3, 64, 64)          \n",
      "ToRGB_lod0                  65          (?, 1, 64, 64)          (1, 1, 64, 1)           \n",
      "Upscale2D_3                 -           (?, 1, 64, 64)          -                       \n",
      "Grow_lod0                   -           (?, 1, 64, 64)          -                       \n",
      "images_out                  -           (?, 1, 64, 64)          -                       \n",
      "---                         ---         ---                     ---                     \n",
      "Total                       1575077                                                     \n",
      "\n",
      "\n",
      "D                           Params      OutputShape             WeightShape             \n",
      "---                         ---         ---                     ---                     \n",
      "images_in                   -           (?, 1, 64, 64)          -                       \n",
      "lod                         -           ()                      -                       \n",
      "FromRGB_lod0                128         (?, 64, 64, 64)         (1, 1, 1, 64)           \n",
      "64x64/Conv0                 36928       (?, 64, 64, 64)         (3, 3, 64, 64)          \n",
      "64x64/Conv1_down            73856       (?, 128, 32, 32)        (3, 3, 64, 128)         \n",
      "Downscale2D                 -           (?, 1, 32, 32)          -                       \n",
      "FromRGB_lod1                256         (?, 128, 32, 32)        (1, 1, 1, 128)          \n",
      "Grow_lod0                   -           (?, 128, 32, 32)        -                       \n",
      "32x32/Conv0                 147584      (?, 128, 32, 32)        (3, 3, 128, 128)        \n",
      "32x32/Conv1_down            147584      (?, 128, 16, 16)        (3, 3, 128, 128)        \n",
      "Downscale2D_1               -           (?, 1, 16, 16)          -                       \n",
      "FromRGB_lod2                256         (?, 128, 16, 16)        (1, 1, 1, 128)          \n",
      "Grow_lod1                   -           (?, 128, 16, 16)        -                       \n",
      "16x16/Conv0                 147584      (?, 128, 16, 16)        (3, 3, 128, 128)        \n",
      "16x16/Conv1_down            147584      (?, 128, 8, 8)          (3, 3, 128, 128)        \n",
      "Downscale2D_2               -           (?, 1, 8, 8)            -                       \n",
      "FromRGB_lod3                256         (?, 128, 8, 8)          (1, 1, 1, 128)          \n",
      "Grow_lod2                   -           (?, 128, 8, 8)          -                       \n",
      "8x8/Conv0                   147584      (?, 128, 8, 8)          (3, 3, 128, 128)        \n",
      "8x8/Conv1_down              147584      (?, 128, 4, 4)          (3, 3, 128, 128)        \n",
      "Downscale2D_3               -           (?, 1, 4, 4)            -                       \n",
      "FromRGB_lod4                256         (?, 128, 4, 4)          (1, 1, 1, 128)          \n",
      "Grow_lod3                   -           (?, 128, 4, 4)          -                       \n",
      "4x4/MinibatchStddev         -           (?, 1, 4, 4)            -                       \n",
      "4x4/Conv                    148736      (?, 128, 4, 4)          (3, 3, 129, 128)        \n",
      "4x4/Dense0                  262272      (?, 128)                (2048, 128)             \n",
      "4x4/Dense1                  258         (?, 2)                  (128, 2)                \n",
      "scores_out                  -           (?, 1)                  -                       \n",
      "labels_out                  -           (?, 1)                  -                       \n",
      "---                         ---         ---                     ---                     \n",
      "Total                       1408706                                                     \n",
      "\n",
      "Building TensorFlow graph...\n",
      "Setting up snapshot image grid...\n",
      "Setting up result dir...\n",
      "Saving results to /scratch/users/suihong/ProGAN_MultiChannel_Reusults_ConditionedtoMultiConditions_TF/911-pgan-2gpu-CondMudProp-CondWell-Enlarg\n",
      "Training...\n",
      "tick 1     kimg 160.0    lod 4.00  minibatch 32   time 6m 13s       sec/tick 372.7   sec/kimg 2.33    maintenance 49.9\n",
      "tick 2     kimg 320.0    lod 3.00  minibatch 32   time 13m 04s      sec/tick 399.9   sec/kimg 2.50    maintenance 11.6\n",
      "tick 3     kimg 480.0    lod 3.00  minibatch 32   time 19m 15s      sec/tick 370.3   sec/kimg 2.31    maintenance 0.2\n",
      "tick 4     kimg 640.0    lod 2.00  minibatch 32   time 26m 16s      sec/tick 421.3   sec/kimg 2.63    maintenance 0.2\n",
      "tick 5     kimg 800.0    lod 2.00  minibatch 32   time 32m 29s      sec/tick 372.7   sec/kimg 2.33    maintenance 0.2\n",
      "tick 6     kimg 960.0    lod 1.00  minibatch 32   time 40m 09s      sec/tick 459.2   sec/kimg 2.87    maintenance 0.3\n",
      "tick 7     kimg 1120.0   lod 1.00  minibatch 32   time 47m 22s      sec/tick 432.7   sec/kimg 2.70    maintenance 0.8\n",
      "tick 8     kimg 1280.0   lod 0.00  minibatch 32   time 56m 30s      sec/tick 547.8   sec/kimg 3.42    maintenance 0.2\n",
      "tick 9     kimg 1440.0   lod 0.00  minibatch 32   time 1h 05m 29s   sec/tick 539.0   sec/kimg 3.37    maintenance 0.2\n"
     ]
    }
   ],
   "source": [
    "\n",
    "% run train.py"
   ]
  },
  {
   "cell_type": "code",
   "execution_count": null,
   "metadata": {
    "collapsed": true
   },
   "outputs": [],
   "source": []
  }
 ],
 "metadata": {
  "kernelspec": {
   "display_name": "Python 3",
   "language": "python",
   "name": "python3"
  },
  "language_info": {
   "codemirror_mode": {
    "name": "ipython",
    "version": 3
   },
   "file_extension": ".py",
   "mimetype": "text/x-python",
   "name": "python",
   "nbconvert_exporter": "python",
   "pygments_lexer": "ipython3",
   "version": "3.6.1"
  }
 },
 "nbformat": 4,
 "nbformat_minor": 2
}
